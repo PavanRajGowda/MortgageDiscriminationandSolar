{
 "cells": [
  {
   "cell_type": "code",
   "execution_count": 1,
   "metadata": {},
   "outputs": [],
   "source": [
    "import numpy as np\n",
    "import pandas as pd\n",
    "import seaborn as sns\n",
    "import matplotlib.pyplot as plt"
   ]
  },
  {
   "cell_type": "code",
   "execution_count": 2,
   "metadata": {},
   "outputs": [],
   "source": [
    "results = pd.read_csv(\"new_results.csv\")"
   ]
  },
  {
   "cell_type": "code",
   "execution_count": 40,
   "metadata": {},
   "outputs": [
    {
     "data": {
      "text/html": [
       "<div>\n",
       "<style scoped>\n",
       "    .dataframe tbody tr th:only-of-type {\n",
       "        vertical-align: middle;\n",
       "    }\n",
       "\n",
       "    .dataframe tbody tr th {\n",
       "        vertical-align: top;\n",
       "    }\n",
       "\n",
       "    .dataframe thead th {\n",
       "        text-align: right;\n",
       "    }\n",
       "</style>\n",
       "<table border=\"1\" class=\"dataframe\">\n",
       "  <thead>\n",
       "    <tr style=\"text-align: right;\">\n",
       "      <th></th>\n",
       "      <th>Unnamed: 0</th>\n",
       "      <th>Unnamed: 0.1</th>\n",
       "      <th>index</th>\n",
       "      <th>coef</th>\n",
       "      <th>std err</th>\n",
       "      <th>t</th>\n",
       "      <th>P&gt;|t|</th>\n",
       "      <th>[0.025</th>\n",
       "      <th>0.975]</th>\n",
       "      <th>r^2</th>\n",
       "      <th>...</th>\n",
       "      <th>hispanic_combined_solar</th>\n",
       "      <th>asian_combined_solar</th>\n",
       "      <th>black_maj_solar</th>\n",
       "      <th>asian_maj_solar</th>\n",
       "      <th>hispanic_maj_solar</th>\n",
       "      <th>final_race_Asian</th>\n",
       "      <th>final_race_Black or African American</th>\n",
       "      <th>final_race_Hispanic or Latino</th>\n",
       "      <th>at_least_one</th>\n",
       "      <th>MSA</th>\n",
       "    </tr>\n",
       "  </thead>\n",
       "  <tbody>\n",
       "    <tr>\n",
       "      <th>0</th>\n",
       "      <td>0</td>\n",
       "      <td>0</td>\n",
       "      <td>final_race_Asian</td>\n",
       "      <td>-3.1445</td>\n",
       "      <td>1.5219999999999998</td>\n",
       "      <td>-2.066</td>\n",
       "      <td>0.039</td>\n",
       "      <td>-6.127999999999999</td>\n",
       "      <td>-0.161</td>\n",
       "      <td>0.3945122469257465</td>\n",
       "      <td>...</td>\n",
       "      <td>NaN</td>\n",
       "      <td>NaN</td>\n",
       "      <td>0.121338</td>\n",
       "      <td>NaN</td>\n",
       "      <td>NaN</td>\n",
       "      <td>0</td>\n",
       "      <td>1</td>\n",
       "      <td>1</td>\n",
       "      <td>1</td>\n",
       "      <td>26420.0</td>\n",
       "    </tr>\n",
       "    <tr>\n",
       "      <th>1</th>\n",
       "      <td>1</td>\n",
       "      <td>1</td>\n",
       "      <td>final_race_Black or African American</td>\n",
       "      <td>16.5705</td>\n",
       "      <td>2.173</td>\n",
       "      <td>7.626</td>\n",
       "      <td>0.0</td>\n",
       "      <td>12.311</td>\n",
       "      <td>20.83</td>\n",
       "      <td>0.3945122469257465</td>\n",
       "      <td>...</td>\n",
       "      <td>NaN</td>\n",
       "      <td>NaN</td>\n",
       "      <td>0.121338</td>\n",
       "      <td>NaN</td>\n",
       "      <td>NaN</td>\n",
       "      <td>0</td>\n",
       "      <td>1</td>\n",
       "      <td>1</td>\n",
       "      <td>1</td>\n",
       "      <td>26420.0</td>\n",
       "    </tr>\n",
       "    <tr>\n",
       "      <th>2</th>\n",
       "      <td>2</td>\n",
       "      <td>2</td>\n",
       "      <td>final_race_Hispanic or Latino</td>\n",
       "      <td>9.5671</td>\n",
       "      <td>1.301</td>\n",
       "      <td>7.355</td>\n",
       "      <td>0.0</td>\n",
       "      <td>7.017</td>\n",
       "      <td>12.117</td>\n",
       "      <td>0.3945122469257465</td>\n",
       "      <td>...</td>\n",
       "      <td>NaN</td>\n",
       "      <td>NaN</td>\n",
       "      <td>0.121338</td>\n",
       "      <td>NaN</td>\n",
       "      <td>NaN</td>\n",
       "      <td>0</td>\n",
       "      <td>1</td>\n",
       "      <td>1</td>\n",
       "      <td>1</td>\n",
       "      <td>26420.0</td>\n",
       "    </tr>\n",
       "    <tr>\n",
       "      <th>3</th>\n",
       "      <td>3</td>\n",
       "      <td>3</td>\n",
       "      <td>final_race_Race Not Available</td>\n",
       "      <td>1.8592</td>\n",
       "      <td>2.039</td>\n",
       "      <td>0.912</td>\n",
       "      <td>0.36200000000000004</td>\n",
       "      <td>-2.1390000000000002</td>\n",
       "      <td>5.857</td>\n",
       "      <td>0.3945122469257465</td>\n",
       "      <td>...</td>\n",
       "      <td>NaN</td>\n",
       "      <td>NaN</td>\n",
       "      <td>0.121338</td>\n",
       "      <td>NaN</td>\n",
       "      <td>NaN</td>\n",
       "      <td>0</td>\n",
       "      <td>1</td>\n",
       "      <td>1</td>\n",
       "      <td>1</td>\n",
       "      <td>26420.0</td>\n",
       "    </tr>\n",
       "    <tr>\n",
       "      <th>4</th>\n",
       "      <td>4</td>\n",
       "      <td>4</td>\n",
       "      <td>derived_sex_Female</td>\n",
       "      <td>1.1286</td>\n",
       "      <td>1.216</td>\n",
       "      <td>0.9279999999999999</td>\n",
       "      <td>0.353</td>\n",
       "      <td>-1.255</td>\n",
       "      <td>3.513</td>\n",
       "      <td>0.3945122469257465</td>\n",
       "      <td>...</td>\n",
       "      <td>NaN</td>\n",
       "      <td>NaN</td>\n",
       "      <td>0.121338</td>\n",
       "      <td>NaN</td>\n",
       "      <td>NaN</td>\n",
       "      <td>0</td>\n",
       "      <td>1</td>\n",
       "      <td>1</td>\n",
       "      <td>1</td>\n",
       "      <td>26420.0</td>\n",
       "    </tr>\n",
       "  </tbody>\n",
       "</table>\n",
       "<p>5 rows × 22 columns</p>\n",
       "</div>"
      ],
      "text/plain": [
       "   Unnamed: 0  Unnamed: 0.1                                 index     coef  \\\n",
       "0           0             0                      final_race_Asian  -3.1445   \n",
       "1           1             1  final_race_Black or African American  16.5705   \n",
       "2           2             2         final_race_Hispanic or Latino   9.5671   \n",
       "3           3             3         final_race_Race Not Available   1.8592   \n",
       "4           4             4                    derived_sex_Female   1.1286   \n",
       "\n",
       "              std err                   t                P>|t|  \\\n",
       "0  1.5219999999999998              -2.066                0.039   \n",
       "1               2.173               7.626                  0.0   \n",
       "2               1.301               7.355                  0.0   \n",
       "3               2.039               0.912  0.36200000000000004   \n",
       "4               1.216  0.9279999999999999                0.353   \n",
       "\n",
       "                [0.025  0.975]                 r^2  ...  \\\n",
       "0   -6.127999999999999  -0.161  0.3945122469257465  ...   \n",
       "1               12.311   20.83  0.3945122469257465  ...   \n",
       "2                7.017  12.117  0.3945122469257465  ...   \n",
       "3  -2.1390000000000002   5.857  0.3945122469257465  ...   \n",
       "4               -1.255   3.513  0.3945122469257465  ...   \n",
       "\n",
       "  hispanic_combined_solar  asian_combined_solar  black_maj_solar  \\\n",
       "0                     NaN                   NaN         0.121338   \n",
       "1                     NaN                   NaN         0.121338   \n",
       "2                     NaN                   NaN         0.121338   \n",
       "3                     NaN                   NaN         0.121338   \n",
       "4                     NaN                   NaN         0.121338   \n",
       "\n",
       "   asian_maj_solar  hispanic_maj_solar  final_race_Asian  \\\n",
       "0              NaN                 NaN                 0   \n",
       "1              NaN                 NaN                 0   \n",
       "2              NaN                 NaN                 0   \n",
       "3              NaN                 NaN                 0   \n",
       "4              NaN                 NaN                 0   \n",
       "\n",
       "   final_race_Black or African American  final_race_Hispanic or Latino  \\\n",
       "0                                     1                              1   \n",
       "1                                     1                              1   \n",
       "2                                     1                              1   \n",
       "3                                     1                              1   \n",
       "4                                     1                              1   \n",
       "\n",
       "   at_least_one      MSA  \n",
       "0             1  26420.0  \n",
       "1             1  26420.0  \n",
       "2             1  26420.0  \n",
       "3             1  26420.0  \n",
       "4             1  26420.0  \n",
       "\n",
       "[5 rows x 22 columns]"
      ]
     },
     "execution_count": 40,
     "metadata": {},
     "output_type": "execute_result"
    }
   ],
   "source": [
    "results.head()"
   ]
  },
  {
   "cell_type": "code",
   "execution_count": 41,
   "metadata": {},
   "outputs": [
    {
     "data": {
      "text/plain": [
       "Index(['Unnamed: 0', 'Unnamed: 0.1', 'index', 'coef', 'std err', 't', 'P>|t|',\n",
       "       '[0.025', '0.975]', 'r^2', 'p', 'black_combined_solar',\n",
       "       'hispanic_combined_solar', 'asian_combined_solar', 'black_maj_solar',\n",
       "       'asian_maj_solar', 'hispanic_maj_solar', 'final_race_Asian',\n",
       "       'final_race_Black or African American', 'final_race_Hispanic or Latino',\n",
       "       'at_least_one', 'MSA'],\n",
       "      dtype='object')"
      ]
     },
     "execution_count": 41,
     "metadata": {},
     "output_type": "execute_result"
    }
   ],
   "source": [
    "results.columns"
   ]
  },
  {
   "cell_type": "code",
   "execution_count": 3,
   "metadata": {},
   "outputs": [],
   "source": [
    "# all MSAs in the results\n",
    "all_msas = pd.unique(results['MSA'])"
   ]
  },
  {
   "cell_type": "code",
   "execution_count": 4,
   "metadata": {},
   "outputs": [],
   "source": [
    "# table that maps each MSAs to their indicators of whether they have racial disparities or not\n",
    "\n",
    "\n",
    "# below are indicators of racial disparities for all the msas\n",
    "black = [list(results[results['MSA'] == msa]['final_race_Black or African American'])[0] for msa in all_msas]\n",
    "asian = [list(results[results['MSA'] == msa]['final_race_Asian'])[0] for msa in all_msas]\n",
    "hispanic = [list(results[results['MSA'] == msa]['final_race_Hispanic or Latino'])[0] for msa in all_msas]\n",
    "\n",
    "\n",
    "temp = pd.DataFrame({'MSA': all_msas, \n",
    "                    'asian': asian,\n",
    "                    'hispanic': hispanic, \n",
    "                    'black': black,\n",
    "                    'asian_shuffled': np.random.permutation(asian), \n",
    "                    'hispanic_shuffled': np.random.permutation(hispanic),\n",
    "                    'black_shuffled': np.random.permutation(black)})\n"
   ]
  },
  {
   "cell_type": "code",
   "execution_count": 5,
   "metadata": {},
   "outputs": [
    {
     "data": {
      "text/html": [
       "<div>\n",
       "<style scoped>\n",
       "    .dataframe tbody tr th:only-of-type {\n",
       "        vertical-align: middle;\n",
       "    }\n",
       "\n",
       "    .dataframe tbody tr th {\n",
       "        vertical-align: top;\n",
       "    }\n",
       "\n",
       "    .dataframe thead th {\n",
       "        text-align: right;\n",
       "    }\n",
       "</style>\n",
       "<table border=\"1\" class=\"dataframe\">\n",
       "  <thead>\n",
       "    <tr style=\"text-align: right;\">\n",
       "      <th></th>\n",
       "      <th>MSA</th>\n",
       "      <th>asian</th>\n",
       "      <th>hispanic</th>\n",
       "      <th>black</th>\n",
       "      <th>asian_shuffled</th>\n",
       "      <th>hispanic_shuffled</th>\n",
       "      <th>black_shuffled</th>\n",
       "    </tr>\n",
       "  </thead>\n",
       "  <tbody>\n",
       "    <tr>\n",
       "      <th>0</th>\n",
       "      <td>26420.0</td>\n",
       "      <td>0</td>\n",
       "      <td>1</td>\n",
       "      <td>1</td>\n",
       "      <td>0</td>\n",
       "      <td>1</td>\n",
       "      <td>0</td>\n",
       "    </tr>\n",
       "    <tr>\n",
       "      <th>1</th>\n",
       "      <td>32820.0</td>\n",
       "      <td>0</td>\n",
       "      <td>0</td>\n",
       "      <td>0</td>\n",
       "      <td>0</td>\n",
       "      <td>1</td>\n",
       "      <td>0</td>\n",
       "    </tr>\n",
       "    <tr>\n",
       "      <th>2</th>\n",
       "      <td>16860.0</td>\n",
       "      <td>0</td>\n",
       "      <td>0</td>\n",
       "      <td>0</td>\n",
       "      <td>0</td>\n",
       "      <td>0</td>\n",
       "      <td>0</td>\n",
       "    </tr>\n",
       "    <tr>\n",
       "      <th>3</th>\n",
       "      <td>34980.0</td>\n",
       "      <td>0</td>\n",
       "      <td>0</td>\n",
       "      <td>1</td>\n",
       "      <td>0</td>\n",
       "      <td>0</td>\n",
       "      <td>0</td>\n",
       "    </tr>\n",
       "    <tr>\n",
       "      <th>4</th>\n",
       "      <td>33340.0</td>\n",
       "      <td>0</td>\n",
       "      <td>0</td>\n",
       "      <td>0</td>\n",
       "      <td>0</td>\n",
       "      <td>0</td>\n",
       "      <td>0</td>\n",
       "    </tr>\n",
       "  </tbody>\n",
       "</table>\n",
       "</div>"
      ],
      "text/plain": [
       "       MSA  asian  hispanic  black  asian_shuffled  hispanic_shuffled  \\\n",
       "0  26420.0      0         1      1               0                  1   \n",
       "1  32820.0      0         0      0               0                  1   \n",
       "2  16860.0      0         0      0               0                  0   \n",
       "3  34980.0      0         0      1               0                  0   \n",
       "4  33340.0      0         0      0               0                  0   \n",
       "\n",
       "   black_shuffled  \n",
       "0               0  \n",
       "1               0  \n",
       "2               0  \n",
       "3               0  \n",
       "4               0  "
      ]
     },
     "execution_count": 5,
     "metadata": {},
     "output_type": "execute_result"
    }
   ],
   "source": [
    "temp.head()"
   ]
  },
  {
   "cell_type": "code",
   "execution_count": 6,
   "metadata": {},
   "outputs": [],
   "source": [
    "def calc_statistic(race, have_disparity, combined):\n",
    "    '''Calculate the average of MSAs (with or without) race disparity. \n",
    "    Input _race_ can take values: final_race_Black or African American, \n",
    "    final_race_Hispanic or Latino, final_race_Asian.\n",
    "    Input _disparity_ can take values: 1 and 0.\n",
    "    Input _combined_ can take values: 1 and 0.'''\n",
    "    \n",
    "    # determine which race to calculate the statistic on \n",
    "    if race == \"final_race_Hispanic or Latino\":\n",
    "            stat_col = 'hispanic_combined_solar' if combined else 'hispanic_maj_solar'\n",
    "        \n",
    "    elif race == 'final_race_Asian':\n",
    "            stat_col = 'asian_combined_solar' if combined else 'asian_maj_solar'\n",
    "            \n",
    "    else:\n",
    "            stat_col = 'black_combined_solar' if combined else 'black_maj_solar'\n",
    "    \n",
    "    # rows representing MSAs with (or without) race disparities\n",
    "    disparity = results[results[race] == have_disparity]\n",
    "\n",
    "    # MSAs with (or without) race disparities \n",
    "    msas = pd.unique([msa for msa in disparity['MSA']])\n",
    "    \n",
    "    # list of statistic\n",
    "    stat_temp = [list(disparity[disparity['MSA'] == msa][stat_col])[0] for msa in msas]\n",
    "    \n",
    "    # take out NaN values\n",
    "    no_nan = [val for val in stat_temp if pd.notnull(val)]\n",
    "    \n",
    "    # average of statistic \n",
    "    return np.mean(no_nan)\n",
    "    "
   ]
  },
  {
   "cell_type": "code",
   "execution_count": 7,
   "metadata": {},
   "outputs": [],
   "source": [
    "def calc_statistic_shuffled(race, have_disparity, combined):\n",
    "    '''Calculate the average of MSAs (with or without) race disparity after shuffled. \n",
    "    Input _race_ can take values: black_shuffled, hispanic_shuffled,\n",
    "    and asian_shuffled.\n",
    "\n",
    "    Input _disparity_ can take values: 1 and 0.\n",
    "    Input _combined_ can take values: 1 and 0.'''\n",
    "    \n",
    "    # shuffle column\n",
    "    temp[race] = np.random.permutation(temp[race[:-9]].values)\n",
    "    \n",
    "    # determine which race to calculate the statistic on \n",
    "    if race == 'hispanic_shuffled':\n",
    "            stat_col = 'hispanic_combined_solar' if combined else 'hispanic_maj_solar'\n",
    "        \n",
    "    elif race == 'asian_shuffled':\n",
    "            stat_col = 'asian_combined_solar' if combined else 'asian_maj_solar'\n",
    "            \n",
    "    else:\n",
    "            stat_col = 'black_combined_solar' if combined else 'black_maj_solar'\n",
    "    \n",
    "    # MSAs with (or without) race disparities \n",
    "    msas = pd.unique([msa for msa in temp[temp[race] == have_disparity]['MSA']])\n",
    "    \n",
    "    # list of statistic\n",
    "    stat_temp = [list(results[results['MSA'] == msa][stat_col])[0] for msa in msas]\n",
    "    \n",
    "    # take out NaN values\n",
    "    no_nan = [val for val in stat_temp if pd.notnull(val)]\n",
    "    \n",
    "    # average of statistic \n",
    "    return np.mean(no_nan)\n",
    "    "
   ]
  },
  {
   "cell_type": "code",
   "execution_count": 8,
   "metadata": {},
   "outputs": [],
   "source": [
    "def original_stat():\n",
    "    '''Calculate the original statistic'''\n",
    "    \n",
    "    # !order of this list matters\n",
    "    races = ['final_race_Asian', 'final_race_Hispanic or Latino', \n",
    "             'final_race_Black or African American',  \n",
    "             ]\n",
    "    # !order of this list matters \n",
    "    combined = [1, 0]\n",
    "    original_stats = []\n",
    "    \n",
    "    for r in races:\n",
    "        for c in combined:\n",
    "            # with disparity \n",
    "            with_disp = calc_statistic(*[r, 1, c])\n",
    "            # without disparity \n",
    "            without_disp = calc_statistic(*[r, 0, c])\n",
    "            # statistic\n",
    "            original_stats.append(without_disp - with_disp)\n",
    "            \n",
    "    # list of args to calculate the original statistics\n",
    "    names = {\"asian_combined\": original_stats[0], \"asian_majority\": original_stats[1], \n",
    "            \"hispanic_combined\": original_stats[2], \"hispanic_majority\": original_stats[3], \n",
    "            \"black_combined\": original_stats[4], \"black_majority\": original_stats[5]}\n",
    "    \n",
    "    return names   "
   ]
  },
  {
   "cell_type": "code",
   "execution_count": 9,
   "metadata": {},
   "outputs": [],
   "source": [
    "def simulate_and_shuffling(repetitions): \n",
    "    '''Simulate the statistics under the null.'''\n",
    "    \n",
    "    # store the results \n",
    "    hispanic = []\n",
    "    hispanic_combined = []\n",
    "    black = []\n",
    "    black_combined = []\n",
    "    \n",
    "    # !order of this list matters\n",
    "    races = ['hispanic_shuffled', 'black_shuffled']\n",
    "    \n",
    "    # !order of this list matters \n",
    "    combined = [1, 0]\n",
    "    \n",
    "    for i in range(repetitions):\n",
    "           \n",
    "        for r in races:\n",
    "            for c in combined:\n",
    "                # with disparity \n",
    "                with_disp = calc_statistic_shuffled(*[r, 1, c])\n",
    "                # without disparity \n",
    "                without_disp = calc_statistic_shuffled(*[r, 0, c])\n",
    "\n",
    "                # statistic\n",
    "                if r[0] == 'h' and c == 1: # hispanic_combined\n",
    "                    hispanic_combined.append(without_disp - with_disp)\n",
    "                elif r[0] == 'h' and c == 0: # hispanic_majority\n",
    "                    hispanic.append(without_disp - with_disp)\n",
    "                elif r[0] == 'b' and c == 1: # black_combined\n",
    "                    black_combined.append(without_disp - with_disp)\n",
    "                elif r[0] == 'b' and c == 0: # black\n",
    "                    black.append(without_disp - with_disp)\n",
    "                \n",
    "    return hispanic, hispanic_combined, black, black_combined\n",
    "            "
   ]
  },
  {
   "cell_type": "code",
   "execution_count": 31,
   "metadata": {},
   "outputs": [],
   "source": [
    "def pvalue(val, values):\n",
    "    '''Return right-tailed p-value.\"'''\n",
    "    \n",
    "    return \"{:.2f}\".format(np.sum([1 if val >= v else 0 for v in values]) / len(values))"
   ]
  },
  {
   "cell_type": "markdown",
   "metadata": {},
   "source": [
    "### Original statistics"
   ]
  },
  {
   "cell_type": "code",
   "execution_count": 10,
   "metadata": {},
   "outputs": [
    {
     "name": "stderr",
     "output_type": "stream",
     "text": [
      "/Users/VanTrinh/opt/anaconda3/lib/python3.8/site-packages/numpy/core/fromnumeric.py:3334: RuntimeWarning: Mean of empty slice.\n",
      "  return _methods._mean(a, axis=axis, dtype=dtype,\n",
      "/Users/VanTrinh/opt/anaconda3/lib/python3.8/site-packages/numpy/core/_methods.py:161: RuntimeWarning: invalid value encountered in double_scalars\n",
      "  ret = ret.dtype.type(ret / rcount)\n"
     ]
    },
    {
     "data": {
      "text/plain": [
       "{'asian_combined': nan,\n",
       " 'asian_majority': nan,\n",
       " 'hispanic_combined': -0.04323478898705589,\n",
       " 'hispanic_majority': -0.07005068530756042,\n",
       " 'black_combined': -0.02621149601452935,\n",
       " 'black_majority': -0.05639014907173662}"
      ]
     },
     "execution_count": 10,
     "metadata": {},
     "output_type": "execute_result"
    }
   ],
   "source": [
    "# the original statistics \n",
    "# there are no MSAs with racial disparities towards the Asian race, hence the NaN values\n",
    "orig_stat = original_stat()\n",
    "orig_stat # a dictionary "
   ]
  },
  {
   "cell_type": "markdown",
   "metadata": {},
   "source": [
    "### Simulate statistics under the null"
   ]
  },
  {
   "cell_type": "markdown",
   "metadata": {},
   "source": [
    "## Run all below\n",
    "Change `rep` below to the desired number of repetitions for the A/B test, and run all cells below."
   ]
  },
  {
   "cell_type": "code",
   "execution_count": 29,
   "metadata": {},
   "outputs": [],
   "source": [
    "# repetitions \n",
    "rep = 10\n",
    "# simulation \n",
    "hispanic, hispanic_combined, black, black_combined = simulate_and_shuffling(rep)"
   ]
  },
  {
   "cell_type": "markdown",
   "metadata": {},
   "source": [
    "### Calculate the pvalues"
   ]
  },
  {
   "cell_type": "code",
   "execution_count": 32,
   "metadata": {
    "scrolled": false
   },
   "outputs": [
    {
     "data": {
      "text/html": [
       "<div>\n",
       "<style scoped>\n",
       "    .dataframe tbody tr th:only-of-type {\n",
       "        vertical-align: middle;\n",
       "    }\n",
       "\n",
       "    .dataframe tbody tr th {\n",
       "        vertical-align: top;\n",
       "    }\n",
       "\n",
       "    .dataframe thead th {\n",
       "        text-align: right;\n",
       "    }\n",
       "</style>\n",
       "<table border=\"1\" class=\"dataframe\">\n",
       "  <thead>\n",
       "    <tr style=\"text-align: right;\">\n",
       "      <th></th>\n",
       "      <th>Category</th>\n",
       "      <th>P-values</th>\n",
       "    </tr>\n",
       "  </thead>\n",
       "  <tbody>\n",
       "    <tr>\n",
       "      <th>0</th>\n",
       "      <td>hispanic_combined</td>\n",
       "      <td>0.60</td>\n",
       "    </tr>\n",
       "    <tr>\n",
       "      <th>1</th>\n",
       "      <td>hispanic_majority</td>\n",
       "      <td>0.40</td>\n",
       "    </tr>\n",
       "    <tr>\n",
       "      <th>2</th>\n",
       "      <td>black_combined</td>\n",
       "      <td>0.30</td>\n",
       "    </tr>\n",
       "    <tr>\n",
       "      <th>3</th>\n",
       "      <td>black_majority</td>\n",
       "      <td>0.50</td>\n",
       "    </tr>\n",
       "  </tbody>\n",
       "</table>\n",
       "</div>"
      ],
      "text/plain": [
       "            Category P-values\n",
       "0  hispanic_combined     0.60\n",
       "1  hispanic_majority     0.40\n",
       "2     black_combined     0.30\n",
       "3     black_majority     0.50"
      ]
     },
     "execution_count": 32,
     "metadata": {},
     "output_type": "execute_result"
    }
   ],
   "source": [
    "# calculating the p-values\n",
    "his = pvalue(orig_stat['hispanic_majority'], hispanic)\n",
    "his_combined = pvalue(orig_stat['hispanic_combined'], hispanic_combined)\n",
    "bl = pvalue(orig_stat['black_majority'], black)\n",
    "bl_combined = pvalue(orig_stat['black_combined'], black_combined)\n",
    "\n",
    "# result table \n",
    "categories = ['hispanic_combined', 'hispanic_majority', 'black_combined', 'black_majority']\n",
    "\n",
    "p_value_result = pd.DataFrame({\"Category\": categories, \n",
    "                              \"P-values\": [his_combined, his, bl_combined, bl]})\n",
    "\n",
    "p_value_result"
   ]
  },
  {
   "cell_type": "markdown",
   "metadata": {},
   "source": [
    "### Visualize the results"
   ]
  },
  {
   "cell_type": "code",
   "execution_count": 292,
   "metadata": {},
   "outputs": [
    {
     "data": {
      "text/plain": [
       "[<matplotlib.lines.Line2D at 0x124ed4130>]"
      ]
     },
     "execution_count": 292,
     "metadata": {},
     "output_type": "execute_result"
    },
    {
     "data": {
      "image/png": "[encoded data removed]",
      "text/plain": [
       "<Figure size 432x288 with 1 Axes>"
      ]
     },
     "metadata": {
      "needs_background": "light"
     },
     "output_type": "display_data"
    }
   ],
   "source": [
    "\n",
    "sns.distplot(black_combined)\n",
    "plt.plot((orig_stat['black_combined'],orig_stat['black_combined']), [0, max(black_combined)]) \n"
   ]
  },
  {
   "cell_type": "code",
   "execution_count": 290,
   "metadata": {},
   "outputs": [
    {
     "data": {
      "text/plain": [
       "[<matplotlib.lines.Line2D at 0x124cdc3d0>]"
      ]
     },
     "execution_count": 290,
     "metadata": {},
     "output_type": "execute_result"
    },
    {
     "data": {
      "image/png": "[encoded data removed]",
      "text/plain": [
       "<Figure size 432x288 with 1 Axes>"
      ]
     },
     "metadata": {
      "needs_background": "light"
     },
     "output_type": "display_data"
    }
   ],
   "source": [
    "categories = ['hispanic_combined', 'hispanic_majority', 'black_combined', 'black_majority']\n",
    "\n",
    "sns.distplot(black)\n",
    "plt.plot((orig_stat['black_majority'],orig_stat['black_majority']), [0, max(black)]) \n"
   ]
  },
  {
   "cell_type": "code",
   "execution_count": 291,
   "metadata": {},
   "outputs": [
    {
     "data": {
      "text/plain": [
       "[<matplotlib.lines.Line2D at 0x124e53040>]"
      ]
     },
     "execution_count": 291,
     "metadata": {},
     "output_type": "execute_result"
    },
    {
     "data": {
      "image/png": "[encoded data removed]",
      "text/plain": [
       "<Figure size 432x288 with 1 Axes>"
      ]
     },
     "metadata": {
      "needs_background": "light"
     },
     "output_type": "display_data"
    }
   ],
   "source": [
    "categories = ['hispanic_combined', 'hispanic_majority', 'black_combined', 'black_majority']\n",
    "\n",
    "sns.distplot(hispanic_combined)\n",
    "plt.plot((orig_stat['hispanic_combined'],orig_stat['hispanic_combined']), [0, max(hispanic_combined)]) \n"
   ]
  },
  {
   "cell_type": "code",
   "execution_count": 286,
   "metadata": {},
   "outputs": [
    {
     "data": {
      "text/plain": [
       "[<matplotlib.lines.Line2D at 0x1284d4bb0>]"
      ]
     },
     "execution_count": 286,
     "metadata": {},
     "output_type": "execute_result"
    },
    {
     "data": {
      "image/png": "[encoded data removed]",
      "text/plain": [
       "<Figure size 432x288 with 1 Axes>"
      ]
     },
     "metadata": {
      "needs_background": "light"
     },
     "output_type": "display_data"
    }
   ],
   "source": [
    "categories = ['hispanic_combined', 'hispanic_majority', 'black_combined', 'black_majority']\n",
    "\n",
    "sns.distplot(hispanic)\n",
    "plt.plot((orig_stat['hispanic_majority'],orig_stat['hispanic_majority']), [0, max(hispanic)]) \n"
   ]
  },
  {
   "cell_type": "code",
   "execution_count": null,
   "metadata": {},
   "outputs": [],
   "source": []
  }
 ],
 "metadata": {
  "kernelspec": {
   "display_name": "Python 3",
   "language": "python",
   "name": "python3"
  },
  "language_info": {
   "codemirror_mode": {
    "name": "ipython",
    "version": 3
   },
   "file_extension": ".py",
   "mimetype": "text/x-python",
   "name": "python",
   "nbconvert_exporter": "python",
   "pygments_lexer": "ipython3",
   "version": "3.8.3"
  }
 },
 "nbformat": 4,
 "nbformat_minor": 4
}
